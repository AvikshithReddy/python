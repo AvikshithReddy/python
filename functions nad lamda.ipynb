{
 "cells": [
  {
   "cell_type": "code",
   "execution_count": 14,
   "metadata": {},
   "outputs": [
    {
     "name": "stdout",
     "output_type": "stream",
     "text": [
      "Total Salary: $540000, Min: $90000, Max: $130000\n"
     ]
    }
   ],
   "source": [
    "# Sum, Min, Max\n",
    "data_scientist_salaries = [95000, 120000, 105000, 90000, 130000]\n",
    "total_salary = sum(data_scientist_salaries)\n",
    "min_salary = min(data_scientist_salaries)\n",
    "max_salary = max(data_scientist_salaries)\n",
    "print(f'Total Salary: ${total_salary}, Min: ${min_salary}, Max: ${max_salary}')"
   ]
  },
  {
   "cell_type": "code",
   "execution_count": 15,
   "metadata": {},
   "outputs": [
    {
     "data": {
      "text/plain": [
       "[1, 2, 3, 4, 5]"
      ]
     },
     "execution_count": 15,
     "metadata": {},
     "output_type": "execute_result"
    }
   ],
   "source": [
    "years_experience = [2, 5, 3, 4, 1]\n",
    "sorted_experience = sorted(years_experience)\n",
    "sorted_experience"
   ]
  },
  {
   "cell_type": "code",
   "execution_count": 16,
   "metadata": {},
   "outputs": [],
   "source": [
    "def calculate_salary(base_salary, bonus_rate):\n",
    "\n",
    "  total_salary = base_salary * (1 + bonus_rate)\n",
    "\n",
    "  return total_salary"
   ]
  },
  {
   "cell_type": "code",
   "execution_count": 17,
   "metadata": {},
   "outputs": [
    {
     "data": {
      "text/plain": [
       "104000.0"
      ]
     },
     "execution_count": 17,
     "metadata": {},
     "output_type": "execute_result"
    }
   ],
   "source": [
    "calculate_salary(80000, 0.3)"
   ]
  },
  {
   "cell_type": "code",
   "execution_count": 18,
   "metadata": {},
   "outputs": [],
   "source": [
    "def calculate_salary(base_salary, bonus_rate=.1):\n",
    "\n",
    "  total_salary = base_salary * (1 + bonus_rate)\n",
    "\n",
    "  return total_salary"
   ]
  },
  {
   "cell_type": "code",
   "execution_count": 19,
   "metadata": {},
   "outputs": [
    {
     "data": {
      "text/plain": [
       "91000.0"
      ]
     },
     "execution_count": 19,
     "metadata": {},
     "output_type": "execute_result"
    }
   ],
   "source": [
    "calculate_salary(70000, 0.3)\n"
   ]
  },
  {
   "cell_type": "code",
   "execution_count": 20,
   "metadata": {},
   "outputs": [
    {
     "name": "stdout",
     "output_type": "stream",
     "text": [
      "99000.00000000001\n"
     ]
    }
   ],
   "source": [
    "print(calculate_salary(90000))"
   ]
  },
  {
   "cell_type": "code",
   "execution_count": 21,
   "metadata": {},
   "outputs": [
    {
     "data": {
      "text/plain": [
       "150000.0"
      ]
     },
     "execution_count": 21,
     "metadata": {},
     "output_type": "execute_result"
    }
   ],
   "source": [
    "salary_1 = 100000\n",
    "rate_1 = 0.5\n",
    "\n",
    "calculate_salary(salary_1, rate_1)"
   ]
  },
  {
   "cell_type": "code",
   "execution_count": 22,
   "metadata": {},
   "outputs": [
    {
     "name": "stdout",
     "output_type": "stream",
     "text": [
      "Job Title and Average Salary Analysis:\n",
      "- Data Analyst: $60,000\n",
      "- Business Analyst: $65,000\n"
     ]
    }
   ],
   "source": [
    "def analyze_skills(skill1, salary1, skill2, salary2):\n",
    "\n",
    "    print('Job Title and Average Salary Analysis:')\n",
    "    print(f'- {skill1}: ${salary1:,}')\n",
    "    print(f'- {skill2}: ${salary2:,}')\n",
    "\n",
    "# Calling the function with job titles and their average salaries as arguments\n",
    "analyze_skills(skill1='Data Analyst', salary1=60000, skill2='Business Analyst', salary2=65000)"
   ]
  },
  {
   "cell_type": "code",
   "execution_count": 23,
   "metadata": {},
   "outputs": [
    {
     "name": "stdout",
     "output_type": "stream",
     "text": [
      "Job Title and Average Salary Analysis:\n",
      "- Data Analyst: $60,000\n",
      "- Business Analyst: $65,000\n",
      "- Data Engineer: $90,000\n"
     ]
    }
   ],
   "source": [
    "def analyze_skills(*args):\n",
    "    \n",
    "    print('Job Title and Average Salary Analysis:')\n",
    "    for skill_salary_pair in args:\n",
    "        skill, salary = skill_salary_pair\n",
    "        print(f'- {skill}: ${salary:,}')\n",
    "\n",
    "# Calling the function with tuples of job titles and their average salaries\n",
    "analyze_skills(('Data Analyst', 60000), ('Business Analyst', 65000), ('Data Engineer', 90000))"
   ]
  },
  {
   "cell_type": "code",
   "execution_count": 24,
   "metadata": {},
   "outputs": [
    {
     "name": "stdout",
     "output_type": "stream",
     "text": [
      "Skill and Average Salary Analysis:\n",
      "- Data_Analyst: $60,000\n",
      "- Business_Analyst: $65,000\n",
      "- Data_Engineer: $90,000\n"
     ]
    }
   ],
   "source": [
    "def analyze_skills(**skills_salaries):\n",
    "    print('Skill and Average Salary Analysis:')\n",
    "    for skill, salary in skills_salaries.items():\n",
    "        print(f'- {skill}: ${salary:,}')\n",
    "\n",
    "# Calling the function with keyword arguments for skills and their average salaries\n",
    "analyze_skills(Data_Analyst=60000, Business_Analyst=65000, Data_Engineer=90000)"
   ]
  },
  {
   "cell_type": "markdown",
   "metadata": {},
   "source": [
    "### lamda"
   ]
  },
  {
   "cell_type": "code",
   "execution_count": 26,
   "metadata": {},
   "outputs": [],
   "source": [
    "add = lambda x, y: x + y"
   ]
  },
  {
   "cell_type": "code",
   "execution_count": 28,
   "metadata": {},
   "outputs": [
    {
     "data": {
      "text/plain": [
       "10"
      ]
     },
     "execution_count": 28,
     "metadata": {},
     "output_type": "execute_result"
    }
   ],
   "source": [
    "add(3,7)"
   ]
  },
  {
   "cell_type": "code",
   "execution_count": 30,
   "metadata": {},
   "outputs": [
    {
     "data": {
      "text/plain": [
       "[110000.00000000001,\n",
       " 220000.00000000003,\n",
       " 165000.0,\n",
       " 132000.0,\n",
       " 88000.0,\n",
       " 825000.0000000001]"
      ]
     },
     "execution_count": 30,
     "metadata": {},
     "output_type": "execute_result"
    }
   ],
   "source": [
    "salary_list = [100000, 200000, 150000, 120000, 80000, 750000]\n",
    "\n",
    "def calculate_salary(base_salary, bonus_rate=.1):\n",
    "  return base_salary * (1 + bonus_rate)\n",
    "total_salary_list = [calculate_salary(salary) for salary in salary_list]\n",
    "total_salary_list"
   ]
  },
  {
   "cell_type": "code",
   "execution_count": 37,
   "metadata": {},
   "outputs": [
    {
     "data": {
      "text/plain": [
       "[110000.00000000001,\n",
       " 220000.00000000003,\n",
       " 165000.0,\n",
       " 132000.0,\n",
       " 88000.0,\n",
       " 825000.0000000001]"
      ]
     },
     "execution_count": 37,
     "metadata": {},
     "output_type": "execute_result"
    }
   ],
   "source": [
    "total_salary_list = [(lambda x : x *(1.1))(salary) for salary in salary_list]\n",
    "total_salary_list"
   ]
  },
  {
   "cell_type": "code",
   "execution_count": 41,
   "metadata": {},
   "outputs": [
    {
     "data": {
      "text/plain": [
       "[110000.00000000001,\n",
       " 220000.00000000003,\n",
       " 165000.0,\n",
       " 132000.0,\n",
       " 88000.0,\n",
       " 825000.0000000001]"
      ]
     },
     "execution_count": 41,
     "metadata": {},
     "output_type": "execute_result"
    }
   ],
   "source": [
    "total_salary_list = [salary * 1.1 for salary in salary_list]\n",
    "\n",
    "total_salary_list"
   ]
  },
  {
   "cell_type": "code",
   "execution_count": 43,
   "metadata": {},
   "outputs": [],
   "source": [
    "jobs_data = [\n",
    "    {'job_title': 'Data Scientist',  'job_skills': ['Python', 'Machine Learning'], 'remote': True},\n",
    "    {'job_title': 'Data Analyst',  'job_skills': ['Excel', 'SQL'], 'remote': False},\n",
    "    {'job_title': 'Machine Learning Engineer', 'job_skills': ['Python', 'TensorFlow', 'Keras'], 'remote': True},\n",
    "    {'job_title': 'Software Developer', 'job_skills': ['Java', 'C++'], 'remote': True},\n",
    "    {'job_title': 'Data Scientist', 'job_skills': ['R', 'Statistics'], 'remote': False}\n",
    "]"
   ]
  },
  {
   "cell_type": "code",
   "execution_count": 44,
   "metadata": {},
   "outputs": [
    {
     "data": {
      "text/plain": [
       "[{'job_title': 'Data Scientist',\n",
       "  'job_skills': ['Python', 'Machine Learning'],\n",
       "  'remote': True},\n",
       " {'job_title': 'Machine Learning Engineer',\n",
       "  'job_skills': ['Python', 'TensorFlow', 'Keras'],\n",
       "  'remote': True},\n",
       " {'job_title': 'Software Developer',\n",
       "  'job_skills': ['Java', 'C++'],\n",
       "  'remote': True}]"
      ]
     },
     "execution_count": 44,
     "metadata": {},
     "output_type": "execute_result"
    }
   ],
   "source": [
    "list(filter(lambda job: job['remote'], jobs_data))"
   ]
  },
  {
   "cell_type": "code",
   "execution_count": 40,
   "metadata": {},
   "outputs": [
    {
     "name": "stdout",
     "output_type": "stream",
     "text": [
      "8\n",
      "9\n"
     ]
    }
   ],
   "source": [
    "add = lambda a, b: a + b\n",
    "print(add(3, 5))\n",
    "print (add(4,5))  # Output: 8"
   ]
  },
  {
   "cell_type": "code",
   "execution_count": 39,
   "metadata": {},
   "outputs": [
    {
     "name": "stdout",
     "output_type": "stream",
     "text": [
      "9\n"
     ]
    }
   ],
   "source": [
    "print (add(4,5))"
   ]
  },
  {
   "cell_type": "code",
   "execution_count": 45,
   "metadata": {},
   "outputs": [
    {
     "name": "stdout",
     "output_type": "stream",
     "text": [
      "Writing my_module.py\n"
     ]
    }
   ],
   "source": [
    "%%writefile my_module.py\n",
    "\n",
    "skill_list = ['Python', 'SQL', 'Excel']"
   ]
  },
  {
   "cell_type": "code",
   "execution_count": 46,
   "metadata": {},
   "outputs": [
    {
     "data": {
      "text/plain": [
       "['Python', 'SQL', 'Excel']"
      ]
     },
     "execution_count": 46,
     "metadata": {},
     "output_type": "execute_result"
    }
   ],
   "source": [
    "import my_module\n",
    "\n",
    "my_module.skill_list"
   ]
  },
  {
   "cell_type": "code",
   "execution_count": null,
   "metadata": {},
   "outputs": [],
   "source": []
  },
  {
   "cell_type": "code",
   "execution_count": 49,
   "metadata": {},
   "outputs": [
    {
     "name": "stdout",
     "output_type": "stream",
     "text": [
      "Overwriting job_analyzer.py\n"
     ]
    }
   ],
   "source": [
    "%%writefile job_analyzer.py\n",
    "\n",
    "# Call the function from the module\n",
    "def calculate_salary(base_salary, bonus_rate=.1):\n",
    "  \n",
    "  return base_salary * (1 + bonus_rate)\n",
    "\n",
    "def calculate_bonus(total_salary, base_salary):\n",
    "  \n",
    "  return (total_salary - base_salary) / base_salary"
   ]
  },
  {
   "cell_type": "code",
   "execution_count": 52,
   "metadata": {},
   "outputs": [
    {
     "data": {
      "text/plain": [
       "0.1111111111111111"
      ]
     },
     "execution_count": 52,
     "metadata": {},
     "output_type": "execute_result"
    }
   ],
   "source": [
    "import job_analyzer\n",
    "\n",
    "job_analyzer.calculate_bonus(100000, 90000)"
   ]
  },
  {
   "cell_type": "code",
   "execution_count": 53,
   "metadata": {},
   "outputs": [
    {
     "name": "stdout",
     "output_type": "stream",
     "text": [
      "('_abc', '_ast', '_codecs', '_collections', '_functools', '_imp', '_io', '_locale', '_operator', '_signal', '_sre', '_stat', '_string', '_symtable', '_thread', '_tokenize', '_tracemalloc', '_typing', '_warnings', '_weakref', 'atexit', 'builtins', 'errno', 'faulthandler', 'gc', 'itertools', 'marshal', 'posix', 'pwd', 'sys', 'time')\n"
     ]
    }
   ],
   "source": [
    "import sys\n",
    "print(sys.builtin_module_names)"
   ]
  },
  {
   "cell_type": "code",
   "execution_count": null,
   "metadata": {},
   "outputs": [],
   "source": []
  }
 ],
 "metadata": {
  "kernelspec": {
   "display_name": "Python 3",
   "language": "python",
   "name": "python3"
  },
  "language_info": {
   "codemirror_mode": {
    "name": "ipython",
    "version": 3
   },
   "file_extension": ".py",
   "mimetype": "text/x-python",
   "name": "python",
   "nbconvert_exporter": "python",
   "pygments_lexer": "ipython3",
   "version": "3.12.9"
  }
 },
 "nbformat": 4,
 "nbformat_minor": 2
}
